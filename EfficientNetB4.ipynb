{
  "cells": [
    {
      "cell_type": "code",
      "execution_count": null,
      "metadata": {
        "colab": {
          "base_uri": "https://localhost:8080/"
        },
        "id": "7DpnSNYIVUrz",
        "outputId": "9e97dbe9-c93d-4c1b-a9bc-f9e159403831"
      },
      "outputs": [
        {
          "output_type": "stream",
          "name": "stdout",
          "text": [
            "Drive already mounted at /content/drive; to attempt to forcibly remount, call drive.mount(\"/content/drive\", force_remount=True).\n"
          ]
        }
      ],
      "source": [
        "from google.colab import drive\n",
        "drive.mount('/content/drive')"
      ]
    },
    {
      "cell_type": "code",
      "execution_count": null,
      "metadata": {
        "id": "-0g0VLnqVfcD"
      },
      "outputs": [],
      "source": [
        "# import the libraries as shown below\n",
        "import keras\n",
        "import matplotlib.pyplot as plt\n",
        "import matplotlib.image as mpimg\n",
        "\n",
        "plt.style.use('classic')\n",
        "\n",
        "from keras.preprocessing.image import ImageDataGenerator\n",
        "from keras.models import Sequential\n",
        "from keras.layers import Conv2D, MaxPooling2D, BatchNormalization\n",
        "from keras.layers import Activation, Dropout, Flatten, Dense\n",
        "from keras.preprocessing import image"
      ]
    },
    {
      "cell_type": "code",
      "execution_count": null,
      "metadata": {
        "id": "TezN2d66VixB"
      },
      "outputs": [],
      "source": [
        "#DATA PRE PROCESSING\n",
        "import numpy as np\n",
        "import pandas as pd\n",
        "import os\n",
        "import cv2\n",
        "from PIL import Image\n",
        "\n",
        "image_directory = '/content/drive/MyDrive/Colab Notebooks/DATA_NEW/'\n",
        "\n",
        "SIZE = 380\n",
        "dataset = []    \n",
        "label = [] "
      ]
    },
    {
      "cell_type": "code",
      "execution_count": null,
      "metadata": {
        "id": "VaQgmlVTZNf-"
      },
      "outputs": [],
      "source": [
        "normal_images = os.listdir(image_directory + 'NORMAL/')\n",
        "for i, image_name in enumerate(normal_images):   \n",
        "  \n",
        "    if (image_name.split('.')[1] == 'jpg'):\n",
        "        image = cv2.imread(image_directory + 'NORMAL/' + image_name)\n",
        "        image = Image.fromarray(image, 'RGB')\n",
        "        image = image.resize((SIZE, SIZE))\n",
        "        dataset.append(np.array(image))\n",
        "        label.append(0)"
      ]
    },
    {
      "cell_type": "code",
      "execution_count": null,
      "metadata": {
        "id": "v-rTKgBtZOH2"
      },
      "outputs": [],
      "source": [
        "covid_images = os.listdir(image_directory + 'COVID-19/')\n",
        "for i, image_name in enumerate(covid_images):\n",
        "    if (image_name.split('.')[1] == 'jpg'):\n",
        "        image = cv2.imread(image_directory + 'COVID-19/' + image_name)\n",
        "        image = Image.fromarray(image, 'RGB')\n",
        "        image = image.resize((SIZE, SIZE))\n",
        "        dataset.append(np.array(image))\n",
        "        label.append(1)"
      ]
    },
    {
      "cell_type": "code",
      "execution_count": null,
      "metadata": {
        "id": "301ku_kMZciS"
      },
      "outputs": [],
      "source": [
        "dataset = np.array(dataset)\n",
        "label = np.array(label)"
      ]
    },
    {
      "cell_type": "code",
      "execution_count": null,
      "metadata": {
        "id": "llyg9Tz7ZfwO"
      },
      "outputs": [],
      "source": [
        "from sklearn.model_selection import train_test_split\n",
        "X_train, X_test, y_train, y_test = train_test_split(dataset, label, test_size = 0.20, random_state = 0)\n"
      ]
    },
    {
      "cell_type": "code",
      "execution_count": null,
      "metadata": {
        "id": "Fk2yFIrAZkcr"
      },
      "outputs": [],
      "source": [
        "from tensorflow.keras.utils import normalize\n",
        "X_train = normalize(X_train,axis=1)\n",
        "X_test = normalize(X_test,axis=1)"
      ]
    },
    {
      "cell_type": "code",
      "execution_count": null,
      "metadata": {
        "id": "WoO5F6qmZpo6"
      },
      "outputs": [],
      "source": [
        "INPUT_SHAPE = (SIZE, SIZE, 3)"
      ]
    },
    {
      "cell_type": "code",
      "execution_count": null,
      "metadata": {
        "id": "jJxY8XrsZykr"
      },
      "outputs": [],
      "source": [
        "model = Sequential()\n",
        "model.add(Conv2D(32, (3, 3), input_shape=INPUT_SHAPE))\n",
        "model.add(Activation('relu'))\n",
        "model.add(MaxPooling2D(pool_size=(2, 2)))\n",
        "\n",
        "model.add(Conv2D(32, (3, 3), kernel_initializer = 'he_uniform'))\n",
        "model.add(Activation('relu'))\n",
        "model.add(MaxPooling2D(pool_size=(2, 2)))\n",
        "\n",
        "model.add(Conv2D(64, (3, 3), kernel_initializer = 'he_uniform'))\n",
        "model.add(Activation('relu'))\n",
        "model.add(MaxPooling2D(pool_size=(2, 2)))\n",
        "\n",
        "model.add(Flatten())\n",
        "model.add(Dense(64))\n",
        "model.add(Activation('relu'))\n",
        "model.add(Dropout(0.5))\n",
        "\n",
        "model.add(Dense(1))\n",
        "model.add(Activation('sigmoid')) "
      ]
    },
    {
      "cell_type": "code",
      "execution_count": null,
      "metadata": {
        "id": "l21Bhh0OZ1ct"
      },
      "outputs": [],
      "source": [
        "#EfficientNet Implementation\n",
        "\n",
        "from tensorflow.keras import layers\n",
        "from tensorflow.keras.applications import EfficientNetB4\n",
        "\n",
        "inputs = layers.Input(shape=(SIZE,SIZE,3))\n",
        "\n",
        "NUM_CLASSES = 2\n",
        "SIZE = 380\n",
        "size = (SIZE, SIZE)\n",
        "# Using model without transfer learning\n",
        "\n",
        "outputs = EfficientNetB4(include_top=True, weights=None, classes=NUM_CLASSES)(inputs)"
      ]
    },
    {
      "cell_type": "code",
      "execution_count": null,
      "metadata": {
        "colab": {
          "base_uri": "https://localhost:8080/"
        },
        "id": "2W1VTofyaHis",
        "outputId": "6c2a4422-a937-4ece-b726-71fd22ab385d"
      },
      "outputs": [
        {
          "output_type": "stream",
          "name": "stdout",
          "text": [
            "Model: \"sequential_4\"\n",
            "_________________________________________________________________\n",
            " Layer (type)                Output Shape              Param #   \n",
            "=================================================================\n",
            " conv2d_12 (Conv2D)          (None, 378, 378, 32)      896       \n",
            "                                                                 \n",
            " activation_20 (Activation)  (None, 378, 378, 32)      0         \n",
            "                                                                 \n",
            " max_pooling2d_12 (MaxPoolin  (None, 189, 189, 32)     0         \n",
            " g2D)                                                            \n",
            "                                                                 \n",
            " conv2d_13 (Conv2D)          (None, 187, 187, 32)      9248      \n",
            "                                                                 \n",
            " activation_21 (Activation)  (None, 187, 187, 32)      0         \n",
            "                                                                 \n",
            " max_pooling2d_13 (MaxPoolin  (None, 93, 93, 32)       0         \n",
            " g2D)                                                            \n",
            "                                                                 \n",
            " conv2d_14 (Conv2D)          (None, 91, 91, 64)        18496     \n",
            "                                                                 \n",
            " activation_22 (Activation)  (None, 91, 91, 64)        0         \n",
            "                                                                 \n",
            " max_pooling2d_14 (MaxPoolin  (None, 45, 45, 64)       0         \n",
            " g2D)                                                            \n",
            "                                                                 \n",
            " flatten_4 (Flatten)         (None, 129600)            0         \n",
            "                                                                 \n",
            " dense_8 (Dense)             (None, 64)                8294464   \n",
            "                                                                 \n",
            " activation_23 (Activation)  (None, 64)                0         \n",
            "                                                                 \n",
            " dropout_4 (Dropout)         (None, 64)                0         \n",
            "                                                                 \n",
            " dense_9 (Dense)             (None, 1)                 65        \n",
            "                                                                 \n",
            " activation_24 (Activation)  (None, 1)                 0         \n",
            "                                                                 \n",
            "=================================================================\n",
            "Total params: 8,323,169\n",
            "Trainable params: 8,323,169\n",
            "Non-trainable params: 0\n",
            "_________________________________________________________________\n",
            "None\n"
          ]
        }
      ],
      "source": [
        "model.compile(loss='binary_crossentropy',\n",
        "              optimizer='rmsprop',             \n",
        "              metrics=['accuracy'])\n",
        "\n",
        "print(model.summary())  "
      ]
    },
    {
      "cell_type": "code",
      "execution_count": null,
      "metadata": {
        "colab": {
          "base_uri": "https://localhost:8080/"
        },
        "id": "6_YY5l5NaIg3",
        "outputId": "3312a66d-353d-438c-a981-ff0e3a3a4b95"
      },
      "outputs": [
        {
          "output_type": "stream",
          "name": "stdout",
          "text": [
            "Epoch 1/10\n",
            "3/3 [==============================] - 2s 422ms/step - loss: 0.8700 - accuracy: 0.5688 - val_loss: 2.3586 - val_accuracy: 0.4500\n",
            "Epoch 2/10\n",
            "3/3 [==============================] - 0s 130ms/step - loss: 1.2423 - accuracy: 0.5500 - val_loss: 0.5302 - val_accuracy: 0.9000\n",
            "Epoch 3/10\n",
            "3/3 [==============================] - 0s 129ms/step - loss: 0.4321 - accuracy: 0.8500 - val_loss: 0.9372 - val_accuracy: 0.4500\n",
            "Epoch 4/10\n",
            "3/3 [==============================] - 0s 132ms/step - loss: 0.7104 - accuracy: 0.6375 - val_loss: 0.4379 - val_accuracy: 0.7750\n",
            "Epoch 5/10\n",
            "3/3 [==============================] - 0s 133ms/step - loss: 0.3211 - accuracy: 0.8750 - val_loss: 0.1420 - val_accuracy: 0.9500\n",
            "Epoch 6/10\n",
            "3/3 [==============================] - 0s 135ms/step - loss: 0.3920 - accuracy: 0.8813 - val_loss: 0.2380 - val_accuracy: 0.9250\n",
            "Epoch 7/10\n",
            "3/3 [==============================] - 0s 131ms/step - loss: 0.2308 - accuracy: 0.9000 - val_loss: 0.1057 - val_accuracy: 0.9750\n",
            "Epoch 8/10\n",
            "3/3 [==============================] - 0s 130ms/step - loss: 0.1441 - accuracy: 0.9500 - val_loss: 0.1163 - val_accuracy: 0.9250\n",
            "Epoch 9/10\n",
            "3/3 [==============================] - 0s 130ms/step - loss: 0.1183 - accuracy: 0.9563 - val_loss: 0.0881 - val_accuracy: 0.9750\n",
            "Epoch 10/10\n",
            "3/3 [==============================] - 0s 130ms/step - loss: 0.1418 - accuracy: 0.9563 - val_loss: 0.0954 - val_accuracy: 0.9750\n"
          ]
        }
      ],
      "source": [
        "history = model.fit(X_train, \n",
        "                         y_train, \n",
        "                         batch_size = 64, \n",
        "                         verbose = 1, \n",
        "                         epochs = 10,      \n",
        "                         validation_data=(X_test,y_test),\n",
        "                         shuffle = False\n",
        "                     )\n"
      ]
    },
    {
      "cell_type": "code",
      "execution_count": null,
      "metadata": {
        "id": "BmSSGLBUaMTc"
      },
      "outputs": [],
      "source": [
        "model.save('covid_model_10epochs1.h5')"
      ]
    },
    {
      "cell_type": "code",
      "execution_count": null,
      "metadata": {
        "colab": {
          "base_uri": "https://localhost:8080/",
          "height": 470
        },
        "id": "XEfbP7RyaT30",
        "outputId": "06a43ba8-bae5-4c13-a77a-74fbca781d97"
      },
      "outputs": [
        {
          "output_type": "display_data",
          "data": {
            "text/plain": [
              "<Figure size 640x480 with 1 Axes>"
            ],
            "image/png": "[encoded data removed]"
          },
          "metadata": {}
        }
      ],
      "source": [
        "#plot the training and validation accuracy and loss at each epoch\n",
        "loss = history.history['loss']\n",
        "val_loss = history.history['val_loss']\n",
        "epochs = range(1, len(loss) + 1)\n",
        "plt.plot(epochs, loss, 'y', label='T')\n",
        "plt.plot(epochs, val_loss, 'r', label='V')\n",
        "plt.title('Training and validation loss')\n",
        "plt.xlabel('Epochs')\n",
        "plt.ylabel('Loss')\n",
        "plt.legend()\n",
        "plt.show()"
      ]
    },
    {
      "cell_type": "code",
      "execution_count": null,
      "metadata": {
        "colab": {
          "base_uri": "https://localhost:8080/",
          "height": 470
        },
        "id": "icG6uKcJaZfi",
        "outputId": "1ac95d75-e559-4393-ed9a-9d1e8d355572"
      },
      "outputs": [
        {
          "output_type": "display_data",
          "data": {
            "text/plain": [
              "<Figure size 640x480 with 1 Axes>"
            ],
            "image/png": "[encoded data removed]"
          },
          "metadata": {}
        }
      ],
      "source": [
        "accuracy = history.history['accuracy']\n",
        "val_accuracy = history.history['val_accuracy']\n",
        "epochs = range(1, len(accuracy) + 1)\n",
        "plt.plot(epochs, accuracy, 'y', label='T')\n",
        "plt.plot(epochs, val_accuracy, 'r', label='V')\n",
        "plt.title('Training and validation accuracy')\n",
        "plt.xlabel('Epochs')\n",
        "plt.ylabel('accuracy')\n",
        "plt.legend()\n",
        "plt.show()"
      ]
    },
    {
      "cell_type": "code",
      "execution_count": null,
      "metadata": {
        "id": "IuaLcs9AajOv"
      },
      "outputs": [],
      "source": [
        "from keras.models import load_model\n",
        "# load model\n",
        "model = load_model('covid_model_10epochs1.h5')"
      ]
    },
    {
      "cell_type": "code",
      "execution_count": null,
      "metadata": {
        "colab": {
          "base_uri": "https://localhost:8080/"
        },
        "id": "W3GCP4wqaoz0",
        "outputId": "5912f1f7-ed58-4239-e9ac-2f1eecf376b5"
      },
      "outputs": [
        {
          "output_type": "stream",
          "name": "stdout",
          "text": [
            "2/2 [==============================] - 0s 58ms/step - loss: 0.0954 - accuracy: 0.9750\n",
            "Accuracy =  97.50000238418579 %\n"
          ]
        }
      ],
      "source": [
        "acc = model.evaluate(X_test, y_test)\n",
        "print(\"Accuracy = \", (acc[1] * 100), \"%\")\n"
      ]
    },
    {
      "cell_type": "code",
      "execution_count": null,
      "metadata": {
        "colab": {
          "base_uri": "https://localhost:8080/"
        },
        "id": "9kwsFTMParo_",
        "outputId": "e5a1aeb3-3bad-4675-88e7-5d7408a52641"
      },
      "outputs": [
        {
          "output_type": "stream",
          "name": "stdout",
          "text": [
            "WARNING:tensorflow:5 out of the last 10 calls to <function Model.make_predict_function.<locals>.predict_function at 0x7f45ae7a3b00> triggered tf.function retracing. Tracing is expensive and the excessive number of tracings could be due to (1) creating @tf.function repeatedly in a loop, (2) passing tensors with different shapes, (3) passing Python objects instead of tensors. For (1), please define your @tf.function outside of the loop. For (2), @tf.function has experimental_relax_shapes=True option that relaxes argument shapes that can avoid unnecessary retracing. For (3), please refer to https://www.tensorflow.org/guide/function#controlling_retracing and https://www.tensorflow.org/api_docs/python/tf/function for  more details.\n",
            "[[18  0]\n",
            " [ 1 21]]\n"
          ]
        }
      ],
      "source": [
        "mythreshold=0.3\n",
        "from sklearn.metrics import confusion_matrix\n",
        "import matplotlib.pyplot as plt\n",
        "y_pred = (model.predict(X_test)>= mythreshold).astype(int)\n",
        "cm=confusion_matrix(y_test, y_pred)  \n",
        "print(cm)"
      ]
    },
    {
      "cell_type": "code",
      "execution_count": null,
      "metadata": {
        "colab": {
          "base_uri": "https://localhost:8080/",
          "height": 564
        },
        "id": "XMgOx6GeawBC",
        "outputId": "26f1731c-3775-426e-9d58-2fe243e6072c"
      },
      "outputs": [
        {
          "output_type": "display_data",
          "data": {
            "text/plain": [
              "<Figure size 600x600 with 1 Axes>"
            ],
            "image/png": "[encoded data removed]"
          },
          "metadata": {}
        }
      ],
      "source": [
        "mat_con=(confusion_matrix(y_test,y_pred))\n",
        "fig, px = plt.subplots(figsize=(7.5, 7.5))\n",
        "px.matshow(mat_con, cmap=plt.cm.YlOrRd, alpha=0.5)\n",
        "for m in range(mat_con.shape[0]):\n",
        "    for n in range(mat_con.shape[1]):\n",
        "        px.text(x=m,y=n,s=mat_con[m, n], va='center', ha='center', size='xx-large')\n",
        "\n",
        "# Sets the labels\n",
        "plt.xlabel('Predictions', fontsize=16)\n",
        "plt.ylabel('Actuals', fontsize=16)\n",
        "plt.title('Confusion Matrix', fontsize=15)\n",
        "plt.show()"
      ]
    },
    {
      "cell_type": "code",
      "execution_count": null,
      "metadata": {
        "colab": {
          "base_uri": "https://localhost:8080/"
        },
        "id": "J6OTyqkLtz1y",
        "outputId": "7c365c6b-87fb-456e-cec2-a89f46792cf6"
      },
      "outputs": [
        {
          "output_type": "execute_result",
          "data": {
            "text/plain": [
              "array([[0],\n",
              "       [1],\n",
              "       [1],\n",
              "       [0],\n",
              "       [1],\n",
              "       [1],\n",
              "       [0],\n",
              "       [1],\n",
              "       [0],\n",
              "       [1],\n",
              "       [0],\n",
              "       [1],\n",
              "       [1],\n",
              "       [1],\n",
              "       [0],\n",
              "       [0],\n",
              "       [0],\n",
              "       [1],\n",
              "       [0],\n",
              "       [0],\n",
              "       [1],\n",
              "       [0],\n",
              "       [0],\n",
              "       [1],\n",
              "       [0],\n",
              "       [1],\n",
              "       [1],\n",
              "       [1],\n",
              "       [1],\n",
              "       [0],\n",
              "       [0],\n",
              "       [0],\n",
              "       [1],\n",
              "       [1],\n",
              "       [0],\n",
              "       [1],\n",
              "       [1],\n",
              "       [0],\n",
              "       [0],\n",
              "       [1]])"
            ]
          },
          "metadata": {},
          "execution_count": 123
        }
      ],
      "source": [
        "y_pred"
      ]
    },
    {
      "cell_type": "code",
      "execution_count": null,
      "metadata": {
        "colab": {
          "base_uri": "https://localhost:8080/"
        },
        "id": "SOT87xjYt0Xg",
        "outputId": "90fc86d3-0a18-4031-9ec3-7f1187c38e6e"
      },
      "outputs": [
        {
          "output_type": "execute_result",
          "data": {
            "text/plain": [
              "array([0, 1, 1, 0, 1, 1, 0, 1, 0, 1, 0, 1, 1, 1, 0, 0, 0, 1, 0, 0, 1, 1,\n",
              "       0, 1, 0, 1, 1, 1, 1, 0, 0, 0, 1, 1, 0, 1, 1, 0, 0, 1])"
            ]
          },
          "metadata": {},
          "execution_count": 124
        }
      ],
      "source": [
        "y_test"
      ]
    },
    {
      "cell_type": "code",
      "execution_count": null,
      "metadata": {
        "colab": {
          "base_uri": "https://localhost:8080/"
        },
        "id": "KXeWKLESt025",
        "outputId": "4461dd4e-2b80-4d60-9cc1-e14496834bee"
      },
      "outputs": [
        {
          "output_type": "execute_result",
          "data": {
            "text/plain": [
              "0.949748743718593"
            ]
          },
          "metadata": {},
          "execution_count": 125
        }
      ],
      "source": [
        "from sklearn.metrics import cohen_kappa_score\n",
        "cohen_kappa_score(y_pred, y_test)"
      ]
    },
    {
      "cell_type": "code",
      "source": [
        "image=Image.open('/content/drive/MyDrive/Colab Notebooks/DATA_NEW/COVID-19/COVID19(1).jpg').convert('RGB')\n",
        "plt.imshow(image)\n",
        "n=1#Select the index of image to be loaded for testing\n",
        "img = X_test[n]\n",
        "\n",
        "input_img = np.expand_dims(img, axis=0) #Expand dims so the input is (num images, x, y, c)\n",
        "print(\"The prediction for this image is: \", model.predict(input_img))\n",
        "print(\"The actual label for this image is: \", y_test[n])"
      ],
      "metadata": {
        "id": "mHOznEiBtAIl"
      },
      "execution_count": null,
      "outputs": []
    },
    {
      "cell_type": "code",
      "source": [
        "if(y_test[n]==1):\n",
        "    print(\"COVID-19\")\n",
        "else:\n",
        "    print(\"NORMAL\")"
      ],
      "metadata": {
        "id": "9c6-0N6xtOCK"
      },
      "execution_count": null,
      "outputs": []
    }
  ],
  "metadata": {
    "colab": {
      "machine_shape": "hm",
      "provenance": [],
      "authorship_tag": "ABX9TyMpoVc4F0e+jXCZF7nLedrv"
    },
    "gpuClass": "standard",
    "kernelspec": {
      "display_name": "Python 3",
      "name": "python3"
    },
    "language_info": {
      "name": "python"
    },
    "accelerator": "GPU"
  },
  "nbformat": 4,
  "nbformat_minor": 0
}