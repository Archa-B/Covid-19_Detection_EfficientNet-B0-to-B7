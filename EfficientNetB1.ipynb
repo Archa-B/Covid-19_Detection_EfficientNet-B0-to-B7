{
  "nbformat": 4,
  "nbformat_minor": 0,
  "metadata": {
    "colab": {
      "provenance": [],
      "machine_shape": "hm",
      "authorship_tag": "ABX9TyO+5idboAm2vuL8pBJsN5ed"
    },
    "kernelspec": {
      "name": "python3",
      "display_name": "Python 3"
    },
    "language_info": {
      "name": "python"
    },
    "gpuClass": "standard",
    "accelerator": "GPU"
  },
  "cells": [
    {
      "cell_type": "code",
      "execution_count": null,
      "metadata": {
        "id": "8HlGxGk1bdjL",
        "colab": {
          "base_uri": "https://localhost:8080/"
        },
        "outputId": "c7cce198-b9bf-477a-cd3b-09ffa064c7c2"
      },
      "outputs": [
        {
          "output_type": "stream",
          "name": "stdout",
          "text": [
            "Drive already mounted at /content/drive; to attempt to forcibly remount, call drive.mount(\"/content/drive\", force_remount=True).\n"
          ]
        }
      ],
      "source": [
        "from google.colab import drive\n",
        "drive.mount('/content/drive')"
      ]
    },
    {
      "cell_type": "code",
      "source": [
        "#import the libraries as shown below\n",
        "import keras\n",
        "import matplotlib.pyplot as plt\n",
        "import matplotlib.image as mpimg\n",
        "\n",
        "plt.style.use('classic')\n",
        "\n",
        "from keras.preprocessing.image import ImageDataGenerator\n",
        "from keras.models import Sequential\n",
        "from keras.layers import Conv2D, MaxPooling2D, BatchNormalization\n",
        "from keras.layers import Activation, Dropout, Flatten, Dense\n",
        "from keras.preprocessing import image"
      ],
      "metadata": {
        "id": "VuUybipWntIr"
      },
      "execution_count": null,
      "outputs": []
    },
    {
      "cell_type": "code",
      "source": [
        "#DATA PRE PROCESSING\n",
        "import numpy as np\n",
        "import pandas as pd\n",
        "import os\n",
        "import cv2\n",
        "from PIL import Image\n",
        "\n",
        "image_directory = '/content/drive/MyDrive/Colab Notebooks/DATA_NEW/'\n",
        "SIZE = 240\n",
        "dataset = []    \n",
        "label = [] "
      ],
      "metadata": {
        "id": "BAwGyfPbnwmU"
      },
      "execution_count": null,
      "outputs": []
    },
    {
      "cell_type": "code",
      "source": [
        "normal_images = os.listdir(image_directory + 'NORMAL/')\n",
        "for i, image_name in enumerate(normal_images):   \n",
        "  \n",
        "    if (image_name.split('.')[1] == 'jpg'):\n",
        "        image = cv2.imread(image_directory + 'NORMAL/' + image_name)\n",
        "        image = Image.fromarray(image, 'RGB')\n",
        "        image = image.resize((SIZE, SIZE))\n",
        "        dataset.append(np.array(image))\n",
        "        label.append(0)"
      ],
      "metadata": {
        "id": "z6egHci7n6Lu"
      },
      "execution_count": null,
      "outputs": []
    },
    {
      "cell_type": "code",
      "source": [
        "covid_images = os.listdir(image_directory + 'COVID-19/')\n",
        "for i, image_name in enumerate(covid_images):\n",
        "    if (image_name.split('.')[1] == 'jpg'):\n",
        "        image = cv2.imread(image_directory + 'COVID-19/' + image_name)\n",
        "        image = Image.fromarray(image, 'RGB')\n",
        "        image = image.resize((SIZE, SIZE))\n",
        "        dataset.append(np.array(image))\n",
        "        label.append(1)\n"
      ],
      "metadata": {
        "id": "xe9BgvsNoKIl"
      },
      "execution_count": null,
      "outputs": []
    },
    {
      "cell_type": "code",
      "source": [
        "dataset = np.array(dataset)\n",
        "label = np.array(label)"
      ],
      "metadata": {
        "id": "E-N7N7pmoSa1"
      },
      "execution_count": null,
      "outputs": []
    },
    {
      "cell_type": "code",
      "source": [
        "from sklearn.model_selection import train_test_split\n",
        "X_train, X_test, y_train, y_test = train_test_split(dataset, label, test_size = 0.40, random_state = 0)\n"
      ],
      "metadata": {
        "id": "6kuMFIa0Oe3d"
      },
      "execution_count": null,
      "outputs": []
    },
    {
      "cell_type": "code",
      "source": [
        "from tensorflow.keras.utils import normalize\n",
        "X_train = normalize(X_train,axis=1)\n",
        "X_test = normalize(X_test,axis=1)"
      ],
      "metadata": {
        "id": "dHT3COrFOgNR"
      },
      "execution_count": null,
      "outputs": []
    },
    {
      "cell_type": "code",
      "source": [
        "INPUT_SHAPE = (SIZE, SIZE, 3)"
      ],
      "metadata": {
        "id": "TcgI8xpjoYzX"
      },
      "execution_count": null,
      "outputs": []
    },
    {
      "cell_type": "code",
      "source": [
        "model = Sequential()\n",
        "model.add(Conv2D(32, (3, 3), input_shape=INPUT_SHAPE))\n",
        "model.add(Activation('relu'))\n",
        "model.add(MaxPooling2D(pool_size=(2, 2)))\n",
        "\n",
        "model.add(Conv2D(32, (3, 3), kernel_initializer = 'he_uniform'))\n",
        "model.add(Activation('relu'))\n",
        "model.add(MaxPooling2D(pool_size=(2, 2)))\n",
        "\n",
        "model.add(Conv2D(64, (3, 3), kernel_initializer = 'he_uniform'))\n",
        "model.add(Activation('relu'))\n",
        "model.add(MaxPooling2D(pool_size=(2, 2)))\n",
        "\n",
        "model.add(Flatten())\n",
        "model.add(Dense(64))\n",
        "model.add(Activation('relu'))\n",
        "model.add(Dropout(0.5))\n",
        "\n",
        "model.add(Dense(1))\n",
        "model.add(Activation('sigmoid'))  "
      ],
      "metadata": {
        "id": "1E2roK8npivM"
      },
      "execution_count": null,
      "outputs": []
    },
    {
      "cell_type": "code",
      "source": [
        "#EfficientNet Implementation\n",
        "\n",
        "from tensorflow.keras import layers\n",
        "from tensorflow.keras.applications import EfficientNetB1\n",
        "\n",
        "inputs = layers.Input(shape=(SIZE,SIZE,3))\n",
        "\n",
        "NUM_CLASSES = 2\n",
        "SIZE = 240\n",
        "size = (SIZE, SIZE)\n",
        "# Using model without transfer learning\n",
        "\n",
        "outputs = EfficientNetB1(include_top=True, weights=None, classes=NUM_CLASSES)(inputs)"
      ],
      "metadata": {
        "id": "_CPuolH5pnzY"
      },
      "execution_count": null,
      "outputs": []
    },
    {
      "cell_type": "code",
      "source": [
        "model.compile(loss='binary_crossentropy',\n",
        "              optimizer='rmsprop',             \n",
        "              metrics=['accuracy'])\n",
        "\n",
        "print(model.summary())    "
      ],
      "metadata": {
        "id": "DDW7_Nfypr3B",
        "colab": {
          "base_uri": "https://localhost:8080/"
        },
        "outputId": "157e7685-a0ef-455a-831a-8b2f430f53aa"
      },
      "execution_count": null,
      "outputs": [
        {
          "output_type": "stream",
          "name": "stdout",
          "text": [
            "Model: \"sequential\"\n",
            "_________________________________________________________________\n",
            " Layer (type)                Output Shape              Param #   \n",
            "=================================================================\n",
            " conv2d (Conv2D)             (None, 238, 238, 32)      896       \n",
            "                                                                 \n",
            " activation (Activation)     (None, 238, 238, 32)      0         \n",
            "                                                                 \n",
            " max_pooling2d (MaxPooling2D  (None, 119, 119, 32)     0         \n",
            " )                                                               \n",
            "                                                                 \n",
            " conv2d_1 (Conv2D)           (None, 117, 117, 32)      9248      \n",
            "                                                                 \n",
            " activation_1 (Activation)   (None, 117, 117, 32)      0         \n",
            "                                                                 \n",
            " max_pooling2d_1 (MaxPooling  (None, 58, 58, 32)       0         \n",
            " 2D)                                                             \n",
            "                                                                 \n",
            " conv2d_2 (Conv2D)           (None, 56, 56, 64)        18496     \n",
            "                                                                 \n",
            " activation_2 (Activation)   (None, 56, 56, 64)        0         \n",
            "                                                                 \n",
            " max_pooling2d_2 (MaxPooling  (None, 28, 28, 64)       0         \n",
            " 2D)                                                             \n",
            "                                                                 \n",
            " flatten (Flatten)           (None, 50176)             0         \n",
            "                                                                 \n",
            " dense (Dense)               (None, 64)                3211328   \n",
            "                                                                 \n",
            " activation_3 (Activation)   (None, 64)                0         \n",
            "                                                                 \n",
            " dropout (Dropout)           (None, 64)                0         \n",
            "                                                                 \n",
            " dense_1 (Dense)             (None, 1)                 65        \n",
            "                                                                 \n",
            " activation_4 (Activation)   (None, 1)                 0         \n",
            "                                                                 \n",
            "=================================================================\n",
            "Total params: 3,240,033\n",
            "Trainable params: 3,240,033\n",
            "Non-trainable params: 0\n",
            "_________________________________________________________________\n",
            "None\n"
          ]
        }
      ]
    },
    {
      "cell_type": "code",
      "source": [
        "history = model.fit(X_train, \n",
        "                         y_train, \n",
        "                         batch_size = 64, \n",
        "                         verbose = 1, \n",
        "                         epochs = 10,      \n",
        "                         validation_data=(X_test,y_test),\n",
        "                         shuffle = False\n",
        "                     )\n"
      ],
      "metadata": {
        "id": "w-I0K38Vpvco",
        "colab": {
          "base_uri": "https://localhost:8080/"
        },
        "outputId": "f38c5cb6-821f-4980-f6ff-25f666e54662"
      },
      "execution_count": null,
      "outputs": [
        {
          "output_type": "stream",
          "name": "stdout",
          "text": [
            "Epoch 1/10\n",
            "2/2 [==============================] - 13s 634ms/step - loss: 1.1540 - accuracy: 0.4667 - val_loss: 0.8826 - val_accuracy: 0.5125\n",
            "Epoch 2/10\n",
            "2/2 [==============================] - 0s 116ms/step - loss: 0.8828 - accuracy: 0.4833 - val_loss: 0.6723 - val_accuracy: 0.6500\n",
            "Epoch 3/10\n",
            "2/2 [==============================] - 0s 195ms/step - loss: 0.6349 - accuracy: 0.5917 - val_loss: 0.5467 - val_accuracy: 0.6875\n",
            "Epoch 4/10\n",
            "2/2 [==============================] - 0s 135ms/step - loss: 0.6811 - accuracy: 0.6500 - val_loss: 0.5746 - val_accuracy: 0.6500\n",
            "Epoch 5/10\n",
            "2/2 [==============================] - 0s 103ms/step - loss: 0.4870 - accuracy: 0.7250 - val_loss: 0.3484 - val_accuracy: 0.9000\n",
            "Epoch 6/10\n",
            "2/2 [==============================] - 0s 106ms/step - loss: 0.2496 - accuracy: 0.9333 - val_loss: 0.2126 - val_accuracy: 0.9125\n",
            "Epoch 7/10\n",
            "2/2 [==============================] - 0s 111ms/step - loss: 0.2021 - accuracy: 0.9167 - val_loss: 0.2052 - val_accuracy: 0.9125\n",
            "Epoch 8/10\n",
            "2/2 [==============================] - 0s 192ms/step - loss: 0.1224 - accuracy: 0.9667 - val_loss: 0.2058 - val_accuracy: 0.9375\n",
            "Epoch 9/10\n",
            "2/2 [==============================] - 0s 122ms/step - loss: 0.1190 - accuracy: 0.9833 - val_loss: 0.2898 - val_accuracy: 0.9000\n",
            "Epoch 10/10\n",
            "2/2 [==============================] - 0s 101ms/step - loss: 0.1607 - accuracy: 0.9583 - val_loss: 0.1816 - val_accuracy: 0.9500\n"
          ]
        }
      ]
    },
    {
      "cell_type": "code",
      "source": [
        "model.save('covid_model_10epochs6.h5')"
      ],
      "metadata": {
        "id": "L9JB3ruyp0RO"
      },
      "execution_count": null,
      "outputs": []
    },
    {
      "cell_type": "code",
      "source": [
        "#plot the training and validation accuracy and loss at each epoch\n",
        "loss = history.history['loss']\n",
        "val_loss = history.history['val_loss']\n",
        "epochs = range(1, len(loss) + 1)\n",
        "plt.plot(epochs, loss, 'y', label='T')\n",
        "plt.plot(epochs, val_loss, 'r', label='V')\n",
        "plt.title('Training and validation loss')\n",
        "plt.xlabel('Epochs')\n",
        "plt.ylabel('Loss')\n",
        "plt.legend()\n",
        "plt.show()"
      ],
      "metadata": {
        "id": "izIMz-ckp4H-",
        "colab": {
          "base_uri": "https://localhost:8080/",
          "height": 470
        },
        "outputId": "8e1a8136-79ce-4314-9c0d-da80ff5966a3"
      },
      "execution_count": null,
      "outputs": [
        {
          "output_type": "display_data",
          "data": {
            "text/plain": [
              "<Figure size 640x480 with 1 Axes>"
            ],
            "image/png": "[encoded data removed]"
          },
          "metadata": {}
        }
      ]
    },
    {
      "cell_type": "code",
      "source": [
        "accuracy = history.history['accuracy']\n",
        "val_accuracy = history.history['val_accuracy']\n",
        "epochs = range(1, len(accuracy) + 1)\n",
        "plt.plot(epochs, accuracy, 'y', label='T')\n",
        "plt.plot(epochs, val_accuracy, 'r', label='V')\n",
        "plt.title('Training and validation accuracy')\n",
        "plt.xlabel('Epochs')\n",
        "plt.ylabel('accuracy')\n",
        "plt.legend()\n",
        "plt.show()"
      ],
      "metadata": {
        "id": "sEAf9NNOm7vi",
        "colab": {
          "base_uri": "https://localhost:8080/",
          "height": 470
        },
        "outputId": "df5bc2a8-e482-4e4f-8ab3-28b1a2cea024"
      },
      "execution_count": null,
      "outputs": [
        {
          "output_type": "display_data",
          "data": {
            "text/plain": [
              "<Figure size 640x480 with 1 Axes>"
            ],
            "image/png": "[encoded data removed]"
          },
          "metadata": {}
        }
      ]
    },
    {
      "cell_type": "code",
      "source": [
        "from keras.models import load_model\n",
        "# load model\n",
        "model = load_model('covid_model_10epochs6.h5')\n"
      ],
      "metadata": {
        "id": "wDhuccwmqw-7"
      },
      "execution_count": null,
      "outputs": []
    },
    {
      "cell_type": "code",
      "source": [
        "acc = model.evaluate(X_test, y_test)\n",
        "print(\"Accuracy = \", (acc[1] * 100), \"%\")\n"
      ],
      "metadata": {
        "id": "WlIA8rO0iI6K",
        "colab": {
          "base_uri": "https://localhost:8080/"
        },
        "outputId": "606c31aa-9cf1-4fd9-fb0a-b1416b7a1216"
      },
      "execution_count": null,
      "outputs": [
        {
          "output_type": "stream",
          "name": "stdout",
          "text": [
            "3/3 [==============================] - 0s 11ms/step - loss: 0.1816 - accuracy: 0.9500\n",
            "Accuracy =  94.9999988079071 %\n"
          ]
        }
      ]
    },
    {
      "cell_type": "code",
      "source": [
        "mythreshold=0.3\n",
        "from sklearn.metrics import confusion_matrix\n",
        "import matplotlib.pyplot as plt\n",
        "y_pred = (model.predict(X_test)>= mythreshold).astype(int)\n",
        "cm=confusion_matrix(y_test, y_pred)  \n",
        "print(cm)"
      ],
      "metadata": {
        "id": "IG3hwSHYiSgH",
        "colab": {
          "base_uri": "https://localhost:8080/"
        },
        "outputId": "8dc78303-d666-43ad-ea1b-f60c74852775"
      },
      "execution_count": null,
      "outputs": [
        {
          "output_type": "stream",
          "name": "stdout",
          "text": [
            "[[37  2]\n",
            " [ 3 38]]\n"
          ]
        }
      ]
    },
    {
      "cell_type": "code",
      "source": [
        "mat_con=(confusion_matrix(y_test,y_pred))\n",
        "fig, px = plt.subplots(figsize=(7.5, 7.5))\n",
        "px.matshow(mat_con, cmap=plt.cm.YlOrRd, alpha=0.5)\n",
        "for m in range(mat_con.shape[0]):\n",
        "    for n in range(mat_con.shape[1]):\n",
        "        px.text(x=m,y=n,s=mat_con[m, n], va='center', ha='center', size='xx-large')\n",
        "\n",
        "# Sets the labels\n",
        "plt.xlabel('Predictions', fontsize=16)\n",
        "plt.ylabel('Actuals', fontsize=16)\n",
        "plt.title('Confusion Matrix', fontsize=15)\n",
        "plt.show()"
      ],
      "metadata": {
        "id": "f-B2Qz4_uf2p",
        "colab": {
          "base_uri": "https://localhost:8080/",
          "height": 564
        },
        "outputId": "fb4bfbb5-cd47-4952-f5a5-43720537869e"
      },
      "execution_count": null,
      "outputs": [
        {
          "output_type": "display_data",
          "data": {
            "text/plain": [
              "<Figure size 600x600 with 1 Axes>"
            ],
            "image/png": "[encoded data removed]"
          },
          "metadata": {}
        }
      ]
    },
    {
      "cell_type": "code",
      "source": [
        "y_pred"
      ],
      "metadata": {
        "id": "30FlCNdvs-ip",
        "colab": {
          "base_uri": "https://localhost:8080/"
        },
        "outputId": "605a8d25-95db-4787-a83f-cbdcf65da297"
      },
      "execution_count": null,
      "outputs": [
        {
          "output_type": "execute_result",
          "data": {
            "text/plain": [
              "array([[0],\n",
              "       [1],\n",
              "       [1],\n",
              "       [0],\n",
              "       [1],\n",
              "       [1],\n",
              "       [0],\n",
              "       [1],\n",
              "       [0],\n",
              "       [1],\n",
              "       [0],\n",
              "       [1],\n",
              "       [1],\n",
              "       [1],\n",
              "       [1],\n",
              "       [0],\n",
              "       [0],\n",
              "       [1],\n",
              "       [0],\n",
              "       [0],\n",
              "       [1],\n",
              "       [0],\n",
              "       [0],\n",
              "       [1],\n",
              "       [0],\n",
              "       [1],\n",
              "       [1],\n",
              "       [1],\n",
              "       [1],\n",
              "       [0],\n",
              "       [0],\n",
              "       [0],\n",
              "       [1],\n",
              "       [1],\n",
              "       [0],\n",
              "       [1],\n",
              "       [1],\n",
              "       [0],\n",
              "       [0],\n",
              "       [1],\n",
              "       [1],\n",
              "       [0],\n",
              "       [0],\n",
              "       [1],\n",
              "       [1],\n",
              "       [0],\n",
              "       [1],\n",
              "       [0],\n",
              "       [1],\n",
              "       [1],\n",
              "       [0],\n",
              "       [1],\n",
              "       [1],\n",
              "       [0],\n",
              "       [1],\n",
              "       [0],\n",
              "       [0],\n",
              "       [1],\n",
              "       [0],\n",
              "       [0],\n",
              "       [1],\n",
              "       [0],\n",
              "       [0],\n",
              "       [0],\n",
              "       [1],\n",
              "       [0],\n",
              "       [0],\n",
              "       [1],\n",
              "       [0],\n",
              "       [0],\n",
              "       [1],\n",
              "       [0],\n",
              "       [1],\n",
              "       [1],\n",
              "       [1],\n",
              "       [0],\n",
              "       [1],\n",
              "       [0],\n",
              "       [0],\n",
              "       [0]])"
            ]
          },
          "metadata": {},
          "execution_count": 23
        }
      ]
    },
    {
      "cell_type": "code",
      "source": [
        "y_test"
      ],
      "metadata": {
        "id": "I62m8Ux7tA7X",
        "colab": {
          "base_uri": "https://localhost:8080/"
        },
        "outputId": "1a74fc9a-9b78-4b20-e75c-7022eb532055"
      },
      "execution_count": null,
      "outputs": [
        {
          "output_type": "execute_result",
          "data": {
            "text/plain": [
              "array([0, 1, 1, 0, 1, 1, 0, 1, 0, 1, 0, 1, 1, 1, 0, 0, 0, 1, 0, 0, 1, 1,\n",
              "       0, 1, 0, 1, 1, 1, 1, 0, 0, 0, 1, 1, 0, 1, 1, 0, 0, 1, 1, 0, 0, 1,\n",
              "       1, 0, 0, 0, 1, 1, 0, 1, 1, 0, 1, 0, 0, 1, 0, 0, 1, 0, 1, 0, 1, 0,\n",
              "       0, 1, 0, 0, 1, 0, 1, 1, 1, 0, 1, 0, 0, 1])"
            ]
          },
          "metadata": {},
          "execution_count": 24
        }
      ]
    },
    {
      "cell_type": "code",
      "source": [
        "from sklearn.metrics import cohen_kappa_score\n",
        "cohen_kappa_score(y_pred, y_test)"
      ],
      "metadata": {
        "id": "4SB1jeictCXf",
        "colab": {
          "base_uri": "https://localhost:8080/"
        },
        "outputId": "fb4d10dc-36a9-4da6-ea24-7dc7221ca778"
      },
      "execution_count": null,
      "outputs": [
        {
          "output_type": "execute_result",
          "data": {
            "text/plain": [
              "0.875"
            ]
          },
          "metadata": {},
          "execution_count": 25
        }
      ]
    },
    {
      "cell_type": "code",
      "source": [
        "image=Image.open('/content/drive/MyDrive/Colab Notebooks/DATA_NEW/COVID-19/COVID19(1).jpg').convert('RGB')\n",
        "plt.imshow(image)\n",
        "n=1#Select the index of image to be loaded for testing\n",
        "img = X_test[n]\n",
        "\n",
        "input_img = np.expand_dims(img, axis=0) #Expand dims so the input is (num images, x, y, c)\n",
        "print(\"The prediction for this image is: \", model.predict(input_img))\n",
        "print(\"The actual label for this image is: \", y_test[n])"
      ],
      "metadata": {
        "id": "sgIAEkFOLBUl"
      },
      "execution_count": null,
      "outputs": []
    },
    {
      "cell_type": "code",
      "source": [
        "if(y_test[n]==1):\n",
        "    print(\"COVID-19\")\n",
        "else:\n",
        "    print(\"NORMAL\")"
      ],
      "metadata": {
        "id": "l-MNhBjFLNfa"
      },
      "execution_count": null,
      "outputs": []
    }
  ]
}