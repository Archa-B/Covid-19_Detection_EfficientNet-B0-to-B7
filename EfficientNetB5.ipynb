{
  "cells": [
    {
      "cell_type": "code",
      "execution_count": null,
      "metadata": {
        "colab": {
          "base_uri": "https://localhost:8080/"
        },
        "id": "9ykyI_ePgkHg",
        "outputId": "d4b7e4f7-0255-4a3a-82b0-996bf078b8a6"
      },
      "outputs": [
        {
          "output_type": "stream",
          "name": "stdout",
          "text": [
            "Drive already mounted at /content/drive; to attempt to forcibly remount, call drive.mount(\"/content/drive\", force_remount=True).\n"
          ]
        }
      ],
      "source": [
        "from google.colab import drive\n",
        "drive.mount('/content/drive')"
      ]
    },
    {
      "cell_type": "code",
      "execution_count": null,
      "metadata": {
        "id": "5yzdpOKogw8G"
      },
      "outputs": [],
      "source": [
        "# import the libraries as shown below\n",
        "import keras\n",
        "import matplotlib.pyplot as plt\n",
        "import matplotlib.image as mpimg\n",
        "\n",
        "plt.style.use('classic')\n",
        "\n",
        "from keras.preprocessing.image import ImageDataGenerator\n",
        "from keras.models import Sequential\n",
        "from keras.layers import Conv2D, MaxPooling2D, BatchNormalization\n",
        "from keras.layers import Activation, Dropout, Flatten, Dense\n",
        "from keras.preprocessing import image"
      ]
    },
    {
      "cell_type": "code",
      "execution_count": null,
      "metadata": {
        "id": "X7X70pN4gxdO"
      },
      "outputs": [],
      "source": [
        "#DATA PRE PROCESSING\n",
        "import numpy as np\n",
        "import pandas as pd\n",
        "import os\n",
        "import cv2\n",
        "from PIL import Image\n",
        "\n",
        "image_directory = '/content/drive/MyDrive/Colab Notebooks/DATA_NEW/'\n",
        "SIZE = 456\n",
        "dataset = []    \n",
        "label = [] "
      ]
    },
    {
      "cell_type": "code",
      "execution_count": null,
      "metadata": {
        "id": "z6bpWBexgx-N"
      },
      "outputs": [],
      "source": [
        "normal_images = os.listdir(image_directory + 'NORMAL/')\n",
        "for i, image_name in enumerate(normal_images):   \n",
        "  \n",
        "    if (image_name.split('.')[1] == 'jpg'):\n",
        "        image = cv2.imread(image_directory + 'NORMAL/' + image_name)\n",
        "        image = Image.fromarray(image, 'RGB')\n",
        "        image = image.resize((SIZE, SIZE))\n",
        "        dataset.append(np.array(image))\n",
        "        label.append(0)"
      ]
    },
    {
      "cell_type": "code",
      "execution_count": null,
      "metadata": {
        "id": "KnHpVuYugye4"
      },
      "outputs": [],
      "source": [
        "covid_images = os.listdir(image_directory + 'COVID-19/')\n",
        "for i, image_name in enumerate(covid_images):\n",
        "    if (image_name.split('.')[1] == 'jpg'):\n",
        "        image = cv2.imread(image_directory + 'COVID-19/' + image_name)\n",
        "        image = Image.fromarray(image, 'RGB')\n",
        "        image = image.resize((SIZE, SIZE))\n",
        "        dataset.append(np.array(image))\n",
        "        label.append(1)"
      ]
    },
    {
      "cell_type": "code",
      "execution_count": null,
      "metadata": {
        "id": "gIpFgu28hLBi"
      },
      "outputs": [],
      "source": [
        "dataset = np.array(dataset)\n",
        "label = np.array(label)"
      ]
    },
    {
      "cell_type": "code",
      "execution_count": null,
      "metadata": {
        "id": "pUI1C6f4hPy9"
      },
      "outputs": [],
      "source": [
        "from sklearn.model_selection import train_test_split\n",
        "X_train, X_test, y_train, y_test = train_test_split(dataset, label, test_size = 0.20, random_state = 0)\n"
      ]
    },
    {
      "cell_type": "code",
      "execution_count": null,
      "metadata": {
        "id": "GSjtuvlThQXo"
      },
      "outputs": [],
      "source": [
        "from tensorflow.keras.utils import normalize\n",
        "X_train = normalize(X_train,axis=1)\n",
        "X_test = normalize(X_test,axis=1)"
      ]
    },
    {
      "cell_type": "code",
      "execution_count": null,
      "metadata": {
        "id": "ECd1s1X2hQ3s"
      },
      "outputs": [],
      "source": [
        "INPUT_SHAPE = (SIZE, SIZE, 3)"
      ]
    },
    {
      "cell_type": "code",
      "execution_count": null,
      "metadata": {
        "id": "1HzCI6WZhdY3"
      },
      "outputs": [],
      "source": [
        "model = Sequential()\n",
        "model.add(Conv2D(32, (3, 3), input_shape=INPUT_SHAPE))\n",
        "model.add(Activation('relu'))\n",
        "model.add(MaxPooling2D(pool_size=(2, 2)))\n",
        "\n",
        "model.add(Conv2D(32, (3, 3), kernel_initializer = 'he_uniform'))\n",
        "model.add(Activation('relu'))\n",
        "model.add(MaxPooling2D(pool_size=(2, 2)))\n",
        "\n",
        "model.add(Conv2D(64, (3, 3), kernel_initializer = 'he_uniform'))\n",
        "model.add(Activation('relu'))\n",
        "model.add(MaxPooling2D(pool_size=(2, 2)))\n",
        "\n",
        "model.add(Flatten())\n",
        "model.add(Dense(64))\n",
        "model.add(Activation('relu'))\n",
        "model.add(Dropout(0.5))\n",
        "\n",
        "model.add(Dense(1))\n",
        "model.add(Activation('sigmoid')) "
      ]
    },
    {
      "cell_type": "code",
      "execution_count": null,
      "metadata": {
        "id": "U0Cf0Ej4hd-y"
      },
      "outputs": [],
      "source": [
        "#EfficientNet Implementation\n",
        "\n",
        "from tensorflow.keras import layers\n",
        "from tensorflow.keras.applications import EfficientNetB5\n",
        "\n",
        "inputs = layers.Input(shape=(SIZE,SIZE,3))\n",
        "\n",
        "NUM_CLASSES = 2\n",
        "SIZE = 456\n",
        "size = (SIZE, SIZE)\n",
        "# Using model without transfer learning\n",
        "\n",
        "outputs = EfficientNetB5(include_top=True, weights=None, classes=NUM_CLASSES)(inputs)"
      ]
    },
    {
      "cell_type": "code",
      "execution_count": null,
      "metadata": {
        "colab": {
          "base_uri": "https://localhost:8080/"
        },
        "id": "K0I26HFGhee3",
        "outputId": "d8b24703-25e9-4f30-927c-2849dd690873"
      },
      "outputs": [
        {
          "output_type": "stream",
          "name": "stdout",
          "text": [
            "Model: \"sequential_1\"\n",
            "_________________________________________________________________\n",
            " Layer (type)                Output Shape              Param #   \n",
            "=================================================================\n",
            " conv2d_3 (Conv2D)           (None, 454, 454, 32)      896       \n",
            "                                                                 \n",
            " activation_5 (Activation)   (None, 454, 454, 32)      0         \n",
            "                                                                 \n",
            " max_pooling2d_3 (MaxPooling  (None, 227, 227, 32)     0         \n",
            " 2D)                                                             \n",
            "                                                                 \n",
            " conv2d_4 (Conv2D)           (None, 225, 225, 32)      9248      \n",
            "                                                                 \n",
            " activation_6 (Activation)   (None, 225, 225, 32)      0         \n",
            "                                                                 \n",
            " max_pooling2d_4 (MaxPooling  (None, 112, 112, 32)     0         \n",
            " 2D)                                                             \n",
            "                                                                 \n",
            " conv2d_5 (Conv2D)           (None, 110, 110, 64)      18496     \n",
            "                                                                 \n",
            " activation_7 (Activation)   (None, 110, 110, 64)      0         \n",
            "                                                                 \n",
            " max_pooling2d_5 (MaxPooling  (None, 55, 55, 64)       0         \n",
            " 2D)                                                             \n",
            "                                                                 \n",
            " flatten_1 (Flatten)         (None, 193600)            0         \n",
            "                                                                 \n",
            " dense_2 (Dense)             (None, 64)                12390464  \n",
            "                                                                 \n",
            " activation_8 (Activation)   (None, 64)                0         \n",
            "                                                                 \n",
            " dropout_1 (Dropout)         (None, 64)                0         \n",
            "                                                                 \n",
            " dense_3 (Dense)             (None, 1)                 65        \n",
            "                                                                 \n",
            " activation_9 (Activation)   (None, 1)                 0         \n",
            "                                                                 \n",
            "=================================================================\n",
            "Total params: 12,419,169\n",
            "Trainable params: 12,419,169\n",
            "Non-trainable params: 0\n",
            "_________________________________________________________________\n",
            "None\n"
          ]
        }
      ],
      "source": [
        "model.compile(loss='binary_crossentropy',\n",
        "              optimizer='rmsprop',             \n",
        "              metrics=['accuracy'])\n",
        "\n",
        "print(model.summary())  "
      ]
    },
    {
      "cell_type": "code",
      "execution_count": null,
      "metadata": {
        "colab": {
          "base_uri": "https://localhost:8080/"
        },
        "id": "4GzluNnFjhpr",
        "outputId": "94b0edaa-c2b9-424e-ab96-a2e8c2a57481"
      },
      "outputs": [
        {
          "output_type": "stream",
          "name": "stdout",
          "text": [
            "Epoch 1/10\n",
            "3/3 [==============================] - 2s 541ms/step - loss: 0.8985 - accuracy: 0.5437 - val_loss: 1.4173 - val_accuracy: 0.4500\n",
            "Epoch 2/10\n",
            "3/3 [==============================] - 1s 176ms/step - loss: 0.8742 - accuracy: 0.6875 - val_loss: 0.5572 - val_accuracy: 0.6500\n",
            "Epoch 3/10\n",
            "3/3 [==============================] - 1s 186ms/step - loss: 0.6924 - accuracy: 0.6062 - val_loss: 0.5501 - val_accuracy: 0.6000\n",
            "Epoch 4/10\n",
            "3/3 [==============================] - 1s 176ms/step - loss: 0.4703 - accuracy: 0.7437 - val_loss: 0.4326 - val_accuracy: 0.8000\n",
            "Epoch 5/10\n",
            "3/3 [==============================] - 1s 182ms/step - loss: 0.2883 - accuracy: 0.8750 - val_loss: 0.1351 - val_accuracy: 0.9250\n",
            "Epoch 6/10\n",
            "3/3 [==============================] - 1s 185ms/step - loss: 0.2502 - accuracy: 0.9250 - val_loss: 0.1993 - val_accuracy: 0.9750\n",
            "Epoch 7/10\n",
            "3/3 [==============================] - 1s 184ms/step - loss: 0.2521 - accuracy: 0.9000 - val_loss: 0.1066 - val_accuracy: 0.9750\n",
            "Epoch 8/10\n",
            "3/3 [==============================] - 1s 181ms/step - loss: 0.1225 - accuracy: 0.9625 - val_loss: 0.0876 - val_accuracy: 0.9500\n",
            "Epoch 9/10\n",
            "3/3 [==============================] - 1s 185ms/step - loss: 0.0972 - accuracy: 0.9750 - val_loss: 0.0765 - val_accuracy: 0.9750\n",
            "Epoch 10/10\n",
            "3/3 [==============================] - 1s 174ms/step - loss: 0.1340 - accuracy: 0.9625 - val_loss: 0.1124 - val_accuracy: 0.9750\n"
          ]
        }
      ],
      "source": [
        "history = model.fit(X_train, \n",
        "                         y_train, \n",
        "                         batch_size = 64, \n",
        "                         verbose = 1, \n",
        "                         epochs = 10,      \n",
        "                         validation_data=(X_test,y_test),\n",
        "                         shuffle = False\n",
        "                     )\n"
      ]
    },
    {
      "cell_type": "code",
      "execution_count": null,
      "metadata": {
        "id": "05MrYDOYjiIK"
      },
      "outputs": [],
      "source": [
        "model.save('covid_model_10epochs2.h5')"
      ]
    },
    {
      "cell_type": "code",
      "execution_count": null,
      "metadata": {
        "id": "stNHSYLojsEl",
        "colab": {
          "base_uri": "https://localhost:8080/",
          "height": 470
        },
        "outputId": "09e4bacc-10b9-40eb-b6c5-0fc15055017c"
      },
      "outputs": [
        {
          "output_type": "display_data",
          "data": {
            "text/plain": [
              "<Figure size 640x480 with 1 Axes>"
            ],
            "image/png": "[encoded data removed]"
          },
          "metadata": {}
        }
      ],
      "source": [
        "#plot the training and validation accuracy and loss at each epoch\n",
        "loss = history.history['loss']\n",
        "val_loss = history.history['val_loss']\n",
        "epochs = range(1, len(loss) + 1)\n",
        "plt.plot(epochs, loss, 'y', label='T')\n",
        "plt.plot(epochs, val_loss, 'r', label='V')\n",
        "plt.title('Training and validation loss')\n",
        "plt.xlabel('Epochs')\n",
        "plt.ylabel('Loss')\n",
        "plt.legend()\n",
        "plt.show()"
      ]
    },
    {
      "cell_type": "code",
      "execution_count": null,
      "metadata": {
        "id": "cCc615WLjxIv",
        "colab": {
          "base_uri": "https://localhost:8080/",
          "height": 470
        },
        "outputId": "1da5ccaf-4f93-44e1-dc9d-f9cdf2929e2d"
      },
      "outputs": [
        {
          "output_type": "display_data",
          "data": {
            "text/plain": [
              "<Figure size 640x480 with 1 Axes>"
            ],
            "image/png": "[encoded data removed]"
          },
          "metadata": {}
        }
      ],
      "source": [
        "accuracy = history.history['accuracy']\n",
        "val_accuracy = history.history['val_accuracy']\n",
        "epochs = range(1, len(accuracy) + 1)\n",
        "plt.plot(epochs, accuracy, 'y', label='T')\n",
        "plt.plot(epochs, val_accuracy, 'r', label='V')\n",
        "plt.title('Training and validation accuracy')\n",
        "plt.xlabel('Epochs')\n",
        "plt.ylabel('accuracy')\n",
        "plt.legend()\n",
        "plt.show()"
      ]
    },
    {
      "cell_type": "code",
      "execution_count": null,
      "metadata": {
        "id": "cYkYKbGpj6jY"
      },
      "outputs": [],
      "source": [
        "from keras.models import load_model\n",
        "# load model\n",
        "model = load_model('covid_model_10epochs2.h5')"
      ]
    },
    {
      "cell_type": "code",
      "execution_count": null,
      "metadata": {
        "id": "2IqOUBlij_nI",
        "colab": {
          "base_uri": "https://localhost:8080/"
        },
        "outputId": "1da81b73-4308-49f9-ec02-f388641269c8"
      },
      "outputs": [
        {
          "output_type": "stream",
          "name": "stdout",
          "text": [
            "2/2 [==============================] - 0s 73ms/step - loss: 0.1124 - accuracy: 0.9750\n",
            "Accuracy =  97.50000238418579 %\n"
          ]
        }
      ],
      "source": [
        "acc = model.evaluate(X_test, y_test)\n",
        "print(\"Accuracy = \", (acc[1] * 100), \"%\")\n"
      ]
    },
    {
      "cell_type": "code",
      "execution_count": null,
      "metadata": {
        "id": "BRSkviaWkFDG",
        "colab": {
          "base_uri": "https://localhost:8080/"
        },
        "outputId": "8052eca3-9c1c-4ec5-dd4b-a2c3f03705e3"
      },
      "outputs": [
        {
          "output_type": "stream",
          "name": "stdout",
          "text": [
            "[[18  0]\n",
            " [ 1 21]]\n"
          ]
        }
      ],
      "source": [
        "mythreshold=0.3\n",
        "from sklearn.metrics import confusion_matrix\n",
        "import matplotlib.pyplot as plt\n",
        "y_pred = (model.predict(X_test)>= mythreshold).astype(int)\n",
        "cm=confusion_matrix(y_test, y_pred)  \n",
        "print(cm)"
      ]
    },
    {
      "cell_type": "code",
      "execution_count": null,
      "metadata": {
        "id": "-25UZ0VIkF02",
        "colab": {
          "base_uri": "https://localhost:8080/",
          "height": 564
        },
        "outputId": "c04895bf-64aa-4e96-d871-27a7c38e53b4"
      },
      "outputs": [
        {
          "output_type": "display_data",
          "data": {
            "text/plain": [
              "<Figure size 600x600 with 1 Axes>"
            ],
            "image/png": "[encoded data removed]"
          },
          "metadata": {}
        }
      ],
      "source": [
        "mat_con=(confusion_matrix(y_test,y_pred))\n",
        "fig, px = plt.subplots(figsize=(7.5, 7.5))\n",
        "px.matshow(mat_con, cmap=plt.cm.YlOrRd, alpha=0.5)\n",
        "for m in range(mat_con.shape[0]):\n",
        "    for n in range(mat_con.shape[1]):\n",
        "        px.text(x=m,y=n,s=mat_con[m, n], va='center', ha='center', size='xx-large')\n",
        "\n",
        "# Sets the labels\n",
        "plt.xlabel('Predictions', fontsize=16)\n",
        "plt.ylabel('Actuals', fontsize=16)\n",
        "plt.title('Confusion Matrix', fontsize=15)\n",
        "plt.show()"
      ]
    },
    {
      "cell_type": "code",
      "execution_count": null,
      "metadata": {
        "id": "b8PmlSC5uKI0",
        "colab": {
          "base_uri": "https://localhost:8080/"
        },
        "outputId": "174dfb62-761f-458a-ea76-35e86ddcb155"
      },
      "outputs": [
        {
          "output_type": "execute_result",
          "data": {
            "text/plain": [
              "array([[0],\n",
              "       [1],\n",
              "       [1],\n",
              "       [0],\n",
              "       [1],\n",
              "       [1],\n",
              "       [0],\n",
              "       [1],\n",
              "       [0],\n",
              "       [1],\n",
              "       [0],\n",
              "       [1],\n",
              "       [1],\n",
              "       [1],\n",
              "       [0],\n",
              "       [0],\n",
              "       [0],\n",
              "       [1],\n",
              "       [0],\n",
              "       [0],\n",
              "       [1],\n",
              "       [0],\n",
              "       [0],\n",
              "       [1],\n",
              "       [0],\n",
              "       [1],\n",
              "       [1],\n",
              "       [1],\n",
              "       [1],\n",
              "       [0],\n",
              "       [0],\n",
              "       [0],\n",
              "       [1],\n",
              "       [1],\n",
              "       [0],\n",
              "       [1],\n",
              "       [1],\n",
              "       [0],\n",
              "       [0],\n",
              "       [1]])"
            ]
          },
          "metadata": {},
          "execution_count": 46
        }
      ],
      "source": [
        "y_pred"
      ]
    },
    {
      "cell_type": "code",
      "execution_count": null,
      "metadata": {
        "id": "UWisdmEHuKqK",
        "colab": {
          "base_uri": "https://localhost:8080/"
        },
        "outputId": "87352cc1-fa9c-4a2f-8394-082afc0dee7e"
      },
      "outputs": [
        {
          "output_type": "execute_result",
          "data": {
            "text/plain": [
              "array([0, 1, 1, 0, 1, 1, 0, 1, 0, 1, 0, 1, 1, 1, 0, 0, 0, 1, 0, 0, 1, 1,\n",
              "       0, 1, 0, 1, 1, 1, 1, 0, 0, 0, 1, 1, 0, 1, 1, 0, 0, 1])"
            ]
          },
          "metadata": {},
          "execution_count": 47
        }
      ],
      "source": [
        "y_test"
      ]
    },
    {
      "cell_type": "code",
      "execution_count": null,
      "metadata": {
        "id": "jK2-Mh2PuLK5",
        "colab": {
          "base_uri": "https://localhost:8080/"
        },
        "outputId": "8151e6f2-74b3-49d2-bbae-b38f77419647"
      },
      "outputs": [
        {
          "output_type": "execute_result",
          "data": {
            "text/plain": [
              "0.949748743718593"
            ]
          },
          "metadata": {},
          "execution_count": 48
        }
      ],
      "source": [
        "from sklearn.metrics import cohen_kappa_score\n",
        "cohen_kappa_score(y_pred, y_test)"
      ]
    },
    {
      "cell_type": "code",
      "source": [
        "print(X_train.shape)\n",
        "print(X_test.shape)\n",
        "print(y_train.shape)\n",
        "print(y_test.shape)"
      ],
      "metadata": {
        "colab": {
          "base_uri": "https://localhost:8080/"
        },
        "id": "A5MQVFoLjRg9",
        "outputId": "b6ae5e5f-0f28-4f74-8ff9-f1501155b1dd"
      },
      "execution_count": null,
      "outputs": [
        {
          "output_type": "stream",
          "name": "stdout",
          "text": [
            "(160, 456, 456, 3)\n",
            "(40, 456, 456, 3)\n",
            "(160,)\n",
            "(40,)\n"
          ]
        }
      ]
    },
    {
      "cell_type": "code",
      "source": [
        "image=Image.open('/content/drive/MyDrive/Colab Notebooks/DATA_NEW/COVID-19/COVID19(1).jpg').convert('RGB')\n",
        "plt.imshow(image)\n",
        "n=1#Select the index of image to be loaded for testing\n",
        "img = X_test[n]\n",
        "\n",
        "input_img = np.expand_dims(img, axis=0) #Expand dims so the input is (num images, x, y, c)\n",
        "print(\"The prediction for this image is: \", model.predict(input_img))\n",
        "print(\"The actual label for this image is: \", y_test[n])"
      ],
      "metadata": {
        "id": "qpXvulrfuBDd"
      },
      "execution_count": null,
      "outputs": []
    },
    {
      "cell_type": "code",
      "source": [
        "if(y_test[n]==1):\n",
        "    print(\"COVID-19\")\n",
        "else:\n",
        "    print(\"NORMAL\")"
      ],
      "metadata": {
        "id": "nn4KluiTuGgI"
      },
      "execution_count": null,
      "outputs": []
    }
  ],
  "metadata": {
    "colab": {
      "machine_shape": "hm",
      "provenance": [],
      "authorship_tag": "ABX9TyM0Yu1pw79NkSERqK/2xMbt"
    },
    "gpuClass": "standard",
    "kernelspec": {
      "display_name": "Python 3",
      "name": "python3"
    },
    "language_info": {
      "name": "python"
    },
    "accelerator": "GPU"
  },
  "nbformat": 4,
  "nbformat_minor": 0
}