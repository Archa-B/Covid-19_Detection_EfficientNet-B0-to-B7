{
  "nbformat": 4,
  "nbformat_minor": 0,
  "metadata": {
    "colab": {
      "provenance": [],
      "machine_shape": "hm",
      "authorship_tag": "ABX9TyN+XSfdf44z1+i59/4JzumR"
    },
    "kernelspec": {
      "name": "python3",
      "display_name": "Python 3"
    },
    "language_info": {
      "name": "python"
    },
    "gpuClass": "standard",
    "accelerator": "GPU"
  },
  "cells": [
    {
      "cell_type": "code",
      "execution_count": null,
      "metadata": {
        "colab": {
          "base_uri": "https://localhost:8080/"
        },
        "id": "SbWNcEeCsXm3",
        "outputId": "a83e6059-985e-43f5-bbb4-b984f96a1319"
      },
      "outputs": [
        {
          "output_type": "stream",
          "name": "stdout",
          "text": [
            "Drive already mounted at /content/drive; to attempt to forcibly remount, call drive.mount(\"/content/drive\", force_remount=True).\n"
          ]
        }
      ],
      "source": [
        "from google.colab import drive\n",
        "drive.mount('/content/drive')"
      ]
    },
    {
      "cell_type": "code",
      "source": [
        "# import the libraries as shown below\n",
        "import keras\n",
        "import matplotlib.pyplot as plt\n",
        "import matplotlib.image as mpimg\n",
        "import numpy as np\n",
        "import pandas as pd\n",
        "plt.style.use('classic')\n",
        "\n",
        "from keras.preprocessing.image import ImageDataGenerator\n",
        "from keras.models import Sequential\n",
        "from keras.layers import Conv2D, MaxPooling2D, BatchNormalization\n",
        "from keras.layers import Activation, Dropout, Flatten, Dense\n",
        "from keras.preprocessing import image"
      ],
      "metadata": {
        "id": "HDiLj9e-skWP"
      },
      "execution_count": null,
      "outputs": []
    },
    {
      "cell_type": "code",
      "source": [
        "#DATA PRE PROCESSING\n",
        "import numpy as np\n",
        "import pandas as pd\n",
        "import os\n",
        "import cv2\n",
        "from PIL import Image\n",
        "\n",
        "image_directory = '/content/drive/MyDrive/Colab Notebooks/DATA_NEW/'\n",
        "SIZE = 240\n",
        "dataset = []    \n",
        "label = [] "
      ],
      "metadata": {
        "id": "bJVmEyPa6Yk5"
      },
      "execution_count": null,
      "outputs": []
    },
    {
      "cell_type": "code",
      "source": [
        "normal_images = os.listdir(image_directory + 'NORMAL/')\n",
        "for i, image_name in enumerate(normal_images):   \n",
        "  \n",
        "    if (image_name.split('.')[1] == 'jpg'):\n",
        "        image = cv2.imread(image_directory + 'NORMAL/' + image_name)\n",
        "        image = Image.fromarray(image, 'RGB')\n",
        "        image = image.resize((SIZE, SIZE))\n",
        "        dataset.append(np.array(image))\n",
        "        label.append(0)"
      ],
      "metadata": {
        "id": "jRvo4OrCsvhj"
      },
      "execution_count": null,
      "outputs": []
    },
    {
      "cell_type": "code",
      "source": [
        "covid_images = os.listdir(image_directory + 'COVID-19/')\n",
        "for i, image_name in enumerate(covid_images):\n",
        "    if (image_name.split('.')[1] == 'jpg'):\n",
        "        image = cv2.imread(image_directory + 'COVID-19/' + image_name)\n",
        "        image = Image.fromarray(image, 'RGB')\n",
        "        image = image.resize((SIZE, SIZE))\n",
        "        dataset.append(np.array(image))\n",
        "        label.append(1)"
      ],
      "metadata": {
        "id": "6zQh9MrnszMl"
      },
      "execution_count": null,
      "outputs": []
    },
    {
      "cell_type": "code",
      "source": [
        "dataset = np.array(dataset)\n",
        "label = np.array(label)"
      ],
      "metadata": {
        "id": "5qQLhCECs5u6"
      },
      "execution_count": null,
      "outputs": []
    },
    {
      "cell_type": "code",
      "source": [
        "from sklearn.model_selection import train_test_split\n",
        "X_train, X_test, y_train, y_test = train_test_split(dataset, label, test_size = 0.40, random_state = 0)\n",
        "\n"
      ],
      "metadata": {
        "id": "IYrpXb8ss60K"
      },
      "execution_count": null,
      "outputs": []
    },
    {
      "cell_type": "code",
      "source": [
        "from tensorflow.keras.utils import normalize\n",
        "X_train = normalize(X_train,axis=1)\n",
        "X_test = normalize(X_test,axis=1)\n"
      ],
      "metadata": {
        "id": "sRP4cnYIs-5z"
      },
      "execution_count": null,
      "outputs": []
    },
    {
      "cell_type": "code",
      "source": [
        "INPUT_SHAPE = (SIZE, SIZE, 3) "
      ],
      "metadata": {
        "id": "l7j5mlmJtDVo"
      },
      "execution_count": null,
      "outputs": []
    },
    {
      "cell_type": "code",
      "source": [
        "model = Sequential()\n",
        "model.add(Conv2D(32, (3, 3), input_shape=INPUT_SHAPE))\n",
        "model.add(Activation('relu'))\n",
        "model.add(MaxPooling2D(pool_size=(2, 2)))\n",
        "\n",
        "model.add(Conv2D(32, (3, 3), kernel_initializer = 'he_uniform'))\n",
        "model.add(Activation('relu'))\n",
        "model.add(MaxPooling2D(pool_size=(2, 2)))\n",
        "\n",
        "model.add(Conv2D(64, (3, 3), kernel_initializer = 'he_uniform'))\n",
        "model.add(Activation('relu'))\n",
        "model.add(MaxPooling2D(pool_size=(2, 2)))\n",
        "\n",
        "model.add(Flatten())\n",
        "model.add(Dense(64))\n",
        "model.add(Activation('relu'))\n",
        "model.add(Dropout(0.5))\n",
        "\n",
        "model.add(Dense(1))\n",
        "model.add(Activation('sigmoid'))  "
      ],
      "metadata": {
        "id": "Wg2I4959tGbX"
      },
      "execution_count": null,
      "outputs": []
    },
    {
      "cell_type": "code",
      "source": [
        "#EfficientNet Implementation\n",
        "\n",
        "from tensorflow.keras import layers\n",
        "from tensorflow.keras.applications import EfficientNetB2\n",
        "\n",
        "inputs = layers.Input(shape=(SIZE,SIZE,3))\n",
        "\n",
        "NUM_CLASSES = 2\n",
        "SIZE = 260\n",
        "size = (SIZE, SIZE)\n",
        "# Using model without transfer learning\n",
        "\n",
        "outputs = EfficientNetB2(include_top=True, weights=None, classes=NUM_CLASSES)(inputs)"
      ],
      "metadata": {
        "id": "vSbSDKoItKSD",
        "colab": {
          "base_uri": "https://localhost:8080/"
        },
        "outputId": "6ce72262-298b-4912-dd55-aa7b8085a99e"
      },
      "execution_count": null,
      "outputs": [
        {
          "output_type": "stream",
          "name": "stdout",
          "text": [
            "WARNING:tensorflow:Model was constructed with shape (None, 260, 260, 3) for input KerasTensor(type_spec=TensorSpec(shape=(None, 260, 260, 3), dtype=tf.float32, name='input_4'), name='input_4', description=\"created by layer 'input_4'\"), but it was called on an input with incompatible shape (None, 240, 240, 3).\n"
          ]
        }
      ]
    },
    {
      "cell_type": "code",
      "source": [
        "model.compile(loss='binary_crossentropy',\n",
        "              optimizer='rmsprop',             \n",
        "              metrics=['accuracy'])\n",
        "\n",
        "print(model.summary())    "
      ],
      "metadata": {
        "colab": {
          "base_uri": "https://localhost:8080/"
        },
        "id": "Yprc39-AU6_0",
        "outputId": "a52ba6e5-724d-4105-8b69-62d2df2cf4cb"
      },
      "execution_count": null,
      "outputs": [
        {
          "output_type": "stream",
          "name": "stdout",
          "text": [
            "Model: \"sequential_1\"\n",
            "_________________________________________________________________\n",
            " Layer (type)                Output Shape              Param #   \n",
            "=================================================================\n",
            " conv2d_3 (Conv2D)           (None, 238, 238, 32)      896       \n",
            "                                                                 \n",
            " activation_5 (Activation)   (None, 238, 238, 32)      0         \n",
            "                                                                 \n",
            " max_pooling2d_3 (MaxPooling  (None, 119, 119, 32)     0         \n",
            " 2D)                                                             \n",
            "                                                                 \n",
            " conv2d_4 (Conv2D)           (None, 117, 117, 32)      9248      \n",
            "                                                                 \n",
            " activation_6 (Activation)   (None, 117, 117, 32)      0         \n",
            "                                                                 \n",
            " max_pooling2d_4 (MaxPooling  (None, 58, 58, 32)       0         \n",
            " 2D)                                                             \n",
            "                                                                 \n",
            " conv2d_5 (Conv2D)           (None, 56, 56, 64)        18496     \n",
            "                                                                 \n",
            " activation_7 (Activation)   (None, 56, 56, 64)        0         \n",
            "                                                                 \n",
            " max_pooling2d_5 (MaxPooling  (None, 28, 28, 64)       0         \n",
            " 2D)                                                             \n",
            "                                                                 \n",
            " flatten_1 (Flatten)         (None, 50176)             0         \n",
            "                                                                 \n",
            " dense_2 (Dense)             (None, 64)                3211328   \n",
            "                                                                 \n",
            " activation_8 (Activation)   (None, 64)                0         \n",
            "                                                                 \n",
            " dropout_1 (Dropout)         (None, 64)                0         \n",
            "                                                                 \n",
            " dense_3 (Dense)             (None, 1)                 65        \n",
            "                                                                 \n",
            " activation_9 (Activation)   (None, 1)                 0         \n",
            "                                                                 \n",
            "=================================================================\n",
            "Total params: 3,240,033\n",
            "Trainable params: 3,240,033\n",
            "Non-trainable params: 0\n",
            "_________________________________________________________________\n",
            "None\n"
          ]
        }
      ]
    },
    {
      "cell_type": "code",
      "source": [
        "history = model.fit(X_train, \n",
        "                         y_train, \n",
        "                         batch_size = 64, \n",
        "                         verbose = 1, \n",
        "                         epochs = 10,      \n",
        "                         validation_data=(X_test,y_test),\n",
        "                         shuffle = False\n",
        "                     )"
      ],
      "metadata": {
        "colab": {
          "base_uri": "https://localhost:8080/"
        },
        "id": "nXqsxOoOVB4V",
        "outputId": "eae1cc40-69b9-4838-9ebf-7608c1cd1802"
      },
      "execution_count": null,
      "outputs": [
        {
          "output_type": "stream",
          "name": "stdout",
          "text": [
            "Epoch 1/10\n",
            "2/2 [==============================] - 1s 300ms/step - loss: 0.7683 - accuracy: 0.5500 - val_loss: 0.6483 - val_accuracy: 0.8375\n",
            "Epoch 2/10\n",
            "2/2 [==============================] - 0s 114ms/step - loss: 0.6665 - accuracy: 0.5917 - val_loss: 0.5448 - val_accuracy: 0.6500\n",
            "Epoch 3/10\n",
            "2/2 [==============================] - 0s 106ms/step - loss: 0.6108 - accuracy: 0.6250 - val_loss: 0.5340 - val_accuracy: 0.8625\n",
            "Epoch 4/10\n",
            "2/2 [==============================] - 0s 108ms/step - loss: 0.4828 - accuracy: 0.8333 - val_loss: 0.2502 - val_accuracy: 0.9125\n",
            "Epoch 5/10\n",
            "2/2 [==============================] - 0s 111ms/step - loss: 0.1964 - accuracy: 0.9583 - val_loss: 0.3194 - val_accuracy: 0.8750\n",
            "Epoch 6/10\n",
            "2/2 [==============================] - 0s 104ms/step - loss: 0.4273 - accuracy: 0.8750 - val_loss: 0.8900 - val_accuracy: 0.5000\n",
            "Epoch 7/10\n",
            "2/2 [==============================] - 0s 104ms/step - loss: 0.5558 - accuracy: 0.7333 - val_loss: 0.2566 - val_accuracy: 0.9125\n",
            "Epoch 8/10\n",
            "2/2 [==============================] - 0s 112ms/step - loss: 0.1927 - accuracy: 0.9417 - val_loss: 0.1972 - val_accuracy: 0.9250\n",
            "Epoch 9/10\n",
            "2/2 [==============================] - 0s 102ms/step - loss: 0.1202 - accuracy: 0.9583 - val_loss: 0.1981 - val_accuracy: 0.9250\n",
            "Epoch 10/10\n",
            "2/2 [==============================] - 0s 102ms/step - loss: 0.1538 - accuracy: 0.9500 - val_loss: 0.1549 - val_accuracy: 0.9500\n"
          ]
        }
      ]
    },
    {
      "cell_type": "code",
      "source": [
        "model.save('covid_model_10epochs7.h5')"
      ],
      "metadata": {
        "id": "R0J2fwziVJFE"
      },
      "execution_count": null,
      "outputs": []
    },
    {
      "cell_type": "code",
      "source": [
        "#plot the training and validation accuracy and loss at each epoch\n",
        "loss = history.history['loss']\n",
        "val_loss = history.history['val_loss']\n",
        "epochs = range(1, len(loss) + 1)\n",
        "plt.plot(epochs, loss, 'y', label='T')\n",
        "plt.plot(epochs, val_loss, 'r', label='V')\n",
        "plt.title('Training and validation loss')\n",
        "plt.xlabel('Epochs')\n",
        "plt.ylabel('Loss')\n",
        "plt.legend()\n",
        "plt.show()"
      ],
      "metadata": {
        "colab": {
          "base_uri": "https://localhost:8080/",
          "height": 470
        },
        "id": "f3C6fr5tVVlV",
        "outputId": "974e82d7-d4e9-4ebf-bdd1-10e5d64dd5be"
      },
      "execution_count": null,
      "outputs": [
        {
          "output_type": "display_data",
          "data": {
            "text/plain": [
              "<Figure size 640x480 with 1 Axes>"
            ],
            "image/png": "[encoded data removed]"
          },
          "metadata": {}
        }
      ]
    },
    {
      "cell_type": "code",
      "source": [
        "accuracy = history.history['accuracy']\n",
        "val_accuracy = history.history['val_accuracy']\n",
        "epochs = range(1, len(accuracy) + 1)\n",
        "plt.plot(epochs, accuracy, 'y', label='T')\n",
        "plt.plot(epochs, val_accuracy, 'r', label='V')\n",
        "plt.title('Training and validation accuracy')\n",
        "plt.xlabel('Epochs')\n",
        "plt.ylabel('accuracy')\n",
        "plt.legend()\n",
        "plt.show()\n"
      ],
      "metadata": {
        "colab": {
          "base_uri": "https://localhost:8080/",
          "height": 470
        },
        "id": "vqbKIh7bVZZO",
        "outputId": "7361aaa4-d9c9-4ddf-ab11-4b0240cd75d4"
      },
      "execution_count": null,
      "outputs": [
        {
          "output_type": "display_data",
          "data": {
            "text/plain": [
              "<Figure size 640x480 with 1 Axes>"
            ],
            "image/png": "[encoded data removed]"
          },
          "metadata": {}
        }
      ]
    },
    {
      "cell_type": "code",
      "source": [
        "from keras.models import load_model\n",
        "# load model\n",
        "model = load_model('covid_model_10epochs7.h5')\n"
      ],
      "metadata": {
        "id": "hcaDWm9PVltz"
      },
      "execution_count": null,
      "outputs": []
    },
    {
      "cell_type": "code",
      "source": [
        "acc = model.evaluate(X_test, y_test)\n",
        "print(\"Accuracy = \", (acc[1] * 100), \"%\")\n"
      ],
      "metadata": {
        "colab": {
          "base_uri": "https://localhost:8080/"
        },
        "id": "24nAoPJzVrI6",
        "outputId": "22ab6ace-6ab9-487d-c779-8a951df09ee1"
      },
      "execution_count": null,
      "outputs": [
        {
          "output_type": "stream",
          "name": "stdout",
          "text": [
            "3/3 [==============================] - 0s 11ms/step - loss: 0.1549 - accuracy: 0.9500\n",
            "Accuracy =  94.9999988079071 %\n"
          ]
        }
      ]
    },
    {
      "cell_type": "code",
      "source": [
        "mythreshold=0.4\n",
        "from sklearn.metrics import confusion_matrix\n",
        "import matplotlib.pyplot as plt\n",
        "y_pred = (model.predict(X_test)>= mythreshold).astype(int)\n",
        "cm=confusion_matrix(y_test, y_pred)  \n",
        "print(cm)"
      ],
      "metadata": {
        "colab": {
          "base_uri": "https://localhost:8080/"
        },
        "id": "5n0T9eZWVujL",
        "outputId": "9ed120fe-1ba9-4e1d-9d1e-23d0c69cf74d"
      },
      "execution_count": null,
      "outputs": [
        {
          "output_type": "stream",
          "name": "stdout",
          "text": [
            "[[37  2]\n",
            " [ 3 38]]\n"
          ]
        }
      ]
    },
    {
      "cell_type": "code",
      "source": [
        "mat_con=(confusion_matrix(y_test,y_pred))\n",
        "fig, px = plt.subplots(figsize=(7.5, 7.5))\n",
        "px.matshow(mat_con, cmap=plt.cm.YlOrRd, alpha=0.5)\n",
        "for m in range(mat_con.shape[0]):\n",
        "    for n in range(mat_con.shape[1]):\n",
        "        px.text(x=m,y=n,s=mat_con[m, n], va='center', ha='center', size='xx-large')\n",
        "\n",
        "# Sets the labels\n",
        "plt.xlabel('Predictions', fontsize=16)\n",
        "plt.ylabel('Actuals', fontsize=16)\n",
        "plt.title('Confusion Matrix', fontsize=15)\n",
        "plt.show()"
      ],
      "metadata": {
        "colab": {
          "base_uri": "https://localhost:8080/",
          "height": 564
        },
        "id": "EO8ijpnqVyoZ",
        "outputId": "356c8a66-722b-4ed1-e787-416a9e88c61d"
      },
      "execution_count": null,
      "outputs": [
        {
          "output_type": "display_data",
          "data": {
            "text/plain": [
              "<Figure size 600x600 with 1 Axes>"
            ],
            "image/png": "[encoded data removed]"
          },
          "metadata": {}
        }
      ]
    },
    {
      "cell_type": "code",
      "source": [
        "y_pred"
      ],
      "metadata": {
        "colab": {
          "base_uri": "https://localhost:8080/"
        },
        "id": "n_OjhNQ2tLQP",
        "outputId": "139533c5-a1f2-4d2e-bcd3-ec0540f3993f"
      },
      "execution_count": null,
      "outputs": [
        {
          "output_type": "execute_result",
          "data": {
            "text/plain": [
              "array([[0],\n",
              "       [1],\n",
              "       [1],\n",
              "       [0],\n",
              "       [1],\n",
              "       [1],\n",
              "       [0],\n",
              "       [1],\n",
              "       [0],\n",
              "       [1],\n",
              "       [0],\n",
              "       [1],\n",
              "       [1],\n",
              "       [1],\n",
              "       [1],\n",
              "       [0],\n",
              "       [0],\n",
              "       [1],\n",
              "       [0],\n",
              "       [0],\n",
              "       [1],\n",
              "       [0],\n",
              "       [0],\n",
              "       [1],\n",
              "       [0],\n",
              "       [1],\n",
              "       [1],\n",
              "       [1],\n",
              "       [1],\n",
              "       [0],\n",
              "       [0],\n",
              "       [0],\n",
              "       [1],\n",
              "       [1],\n",
              "       [0],\n",
              "       [1],\n",
              "       [1],\n",
              "       [0],\n",
              "       [0],\n",
              "       [1],\n",
              "       [1],\n",
              "       [0],\n",
              "       [0],\n",
              "       [1],\n",
              "       [1],\n",
              "       [0],\n",
              "       [1],\n",
              "       [0],\n",
              "       [1],\n",
              "       [1],\n",
              "       [0],\n",
              "       [1],\n",
              "       [1],\n",
              "       [0],\n",
              "       [1],\n",
              "       [0],\n",
              "       [0],\n",
              "       [1],\n",
              "       [0],\n",
              "       [0],\n",
              "       [1],\n",
              "       [0],\n",
              "       [0],\n",
              "       [0],\n",
              "       [1],\n",
              "       [0],\n",
              "       [0],\n",
              "       [1],\n",
              "       [0],\n",
              "       [0],\n",
              "       [1],\n",
              "       [0],\n",
              "       [1],\n",
              "       [1],\n",
              "       [1],\n",
              "       [0],\n",
              "       [1],\n",
              "       [0],\n",
              "       [0],\n",
              "       [0]])"
            ]
          },
          "metadata": {},
          "execution_count": 45
        }
      ]
    },
    {
      "cell_type": "code",
      "source": [
        "y_test"
      ],
      "metadata": {
        "colab": {
          "base_uri": "https://localhost:8080/"
        },
        "id": "NvFiqRRptL1Y",
        "outputId": "e9622f62-289a-466a-e4f4-06c0c402b49d"
      },
      "execution_count": null,
      "outputs": [
        {
          "output_type": "execute_result",
          "data": {
            "text/plain": [
              "array([0, 1, 1, 0, 1, 1, 0, 1, 0, 1, 0, 1, 1, 1, 0, 0, 0, 1, 0, 0, 1, 1,\n",
              "       0, 1, 0, 1, 1, 1, 1, 0, 0, 0, 1, 1, 0, 1, 1, 0, 0, 1, 1, 0, 0, 1,\n",
              "       1, 0, 0, 0, 1, 1, 0, 1, 1, 0, 1, 0, 0, 1, 0, 0, 1, 0, 1, 0, 1, 0,\n",
              "       0, 1, 0, 0, 1, 0, 1, 1, 1, 0, 1, 0, 0, 1])"
            ]
          },
          "metadata": {},
          "execution_count": 46
        }
      ]
    },
    {
      "cell_type": "code",
      "source": [
        "from sklearn.metrics import cohen_kappa_score\n",
        "cohen_kappa_score(y_pred, y_test)"
      ],
      "metadata": {
        "colab": {
          "base_uri": "https://localhost:8080/"
        },
        "id": "0WyXY_mdtMl6",
        "outputId": "27d0bdcb-b32c-4eb3-b2a6-a76232bb03cc"
      },
      "execution_count": null,
      "outputs": [
        {
          "output_type": "execute_result",
          "data": {
            "text/plain": [
              "0.875"
            ]
          },
          "metadata": {},
          "execution_count": 47
        }
      ]
    },
    {
      "cell_type": "code",
      "source": [
        "image=Image.open('/content/drive/MyDrive/Colab Notebooks/DATA_NEW/COVID-19/COVID19(1).jpg').convert('RGB')\n",
        "plt.imshow(image)\n",
        "n=1#Select the index of image to be loaded for testing\n",
        "img = X_test[n]\n",
        "\n",
        "input_img = np.expand_dims(img, axis=0) #Expand dims so the input is (num images, x, y, c)\n",
        "print(\"The prediction for this image is: \", model.predict(input_img))\n",
        "print(\"The actual label for this image is: \", y_test[n])"
      ],
      "metadata": {
        "id": "cfFKTqUjbVA2"
      },
      "execution_count": null,
      "outputs": []
    },
    {
      "cell_type": "code",
      "source": [
        "if(y_test[n]==1):\n",
        "    print(\"COVID-19\")\n",
        "else:\n",
        "    print(\"NORMAL\")"
      ],
      "metadata": {
        "id": "q6nKeW83bWHI"
      },
      "execution_count": null,
      "outputs": []
    }
  ]
}